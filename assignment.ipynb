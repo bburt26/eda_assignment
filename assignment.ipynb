{
  "cells": [
    {
      "cell_type": "markdown",
      "metadata": {
        "id": "DOSZARVwGiXj"
      },
      "source": [
        "# Assignment: Exploratory Data Analysis\n",
        "### `! git clone https://github.com/ds3001f25/eda_assignment.git`\n",
        "### Do Q1, Q2, and Q3."
      ]
    },
    {
      "cell_type": "markdown",
      "metadata": {
        "id": "RJ49Bo0kGiXk"
      },
      "source": [
        "**Q1.** In class, we talked about how to compute the sample mean of a variable $X$,\n",
        "$$\n",
        "m(X) = \\dfrac{1}{N} \\sum_{i=1}^N x_i\n",
        "$$\n",
        "and sample covariance of two variables $X$ and $Y$,\n",
        "$$\n",
        "\\text{cov}(X,Y) = \\dfrac{1}{N} \\sum_{i=1}^N (x_i - m(X))(y_i - m(Y))).\n",
        "$$\n",
        "Recall, the sample variance of $X$ is\n",
        "$$\n",
        "s^2 = \\dfrac{1}{N} \\sum_{i=1}^N (x_i - m(X))^2.\n",
        "$$\n",
        "It can be very helpful to understand some basic properties of these statistics. If you want to write your calculations on a piece of paper, take a photo, and upload that to your GitHub repo, that's probably easiest.\n",
        "\n",
        "1. Show that $m(a + bX) = a+b \\times m(X)$.\n",
        "2. Show that $\\text{cov}(X,a+bY) = b \\times \\text{cov}(X,Y)$\n",
        "3. Show that $\\text{cov}(a+bX,a+bX) = b^2 \\text{cov}(X,X) $, and in particular that $\\text{cov}(X,X) = s^2 $.\n",
        "4. Instead of the mean, consider the median. Consider transformations that are non-decreasing (if $x\\ge x'$, then $g(x)\\ge g(x')$), like $2+5 \\times X$ or $\\text{arcsinh}(X)$. Is a non-decreasing transformation of the median the median of the transformed variable? Explain. Does your answer apply to any quantile? The IQR? The range?\n",
        "5. Consider a non-decreasing transformation $g()$. Is is always true that $m(g(X))= g(m(X))$?"
      ]
    },
    {
      "cell_type": "code",
      "execution_count": null,
      "metadata": {
        "vscode": {
          "languageId": "plaintext"
        },
        "id": "Qw1c_49CGiXl"
      },
      "outputs": [],
      "source": [
        ""
      ]
    },
    {
      "cell_type": "markdown",
      "metadata": {
        "id": "bPtJVr1mGiXl"
      },
      "source": [
        "**Q2.** This question uses the Airbnb data to practice making visualizations.\n",
        "\n",
        "  1. Load the `./data/airbnb_hw.csv` data with Pandas. This provides a dataset of AirBnB rental properties for New York City.  \n",
        "  2. What are are the dimensions of the data? How many observations are there? What are the variables included? Use `.head()` to examine the first few rows of data.\n",
        "  3. Cross tabulate `Room Type` and `Property Type`. What patterns do you see in what kinds of rentals are available? For which kinds of properties are private rooms more common than renting the entire property?\n",
        "  4. For `Price`, make a histogram, kernel density, box plot, and a statistical description of the variable. Are the data badly scaled? Are there many outliers? Use `log` to transform price into a new variable, `price_log`, and take these steps again.\n",
        "  5. Make a scatterplot of `price_log` and `Beds`. Describe what you see. Use `.groupby()` to compute a desciption of `Price` conditional on/grouped by the number of beds. Describe any patterns you see in the average price and standard deviation in prices.\n",
        "  6. Make a scatterplot of `price_log` and `Beds`, but color the graph by `Room Type` and `Property Type`. What patterns do you see? Compute a description of `Price` conditional on `Room Type` and `Property Type`. Which Room Type and Property Type have the highest prices on average? Which have the highest standard deviation? Does the mean or median appear to be a more reliable estimate of central tendency, and explain why?"
      ]
    },
    {
      "cell_type": "code",
      "execution_count": 3,
      "metadata": {
        "vscode": {
          "languageId": "plaintext"
        },
        "colab": {
          "base_uri": "https://localhost:8080/"
        },
        "id": "2g95Rwh2GiXl",
        "outputId": "19207e21-1252-4757-abf2-d6cf372e4629"
      },
      "outputs": [
        {
          "output_type": "stream",
          "name": "stdout",
          "text": [
            "(30478, 13)\n",
            "Index(['Host Id', 'Host Since', 'Name', 'Neighbourhood ', 'Property Type',\n",
            "       'Review Scores Rating (bin)', 'Room Type', 'Zipcode', 'Beds',\n",
            "       'Number of Records', 'Number Of Reviews', 'Price',\n",
            "       'Review Scores Rating'],\n",
            "      dtype='object')\n"
          ]
        }
      ],
      "source": [
        "# Question 2.1/2.2\n",
        "\n",
        "import numpy as np\n",
        "import pandas as pd\n",
        "\n",
        "airbnb = pd.read_csv(\"airbnb_hw.csv\")\n",
        "\n",
        "print(airbnb.shape)\n",
        "# The dimensions are 30478 rows by 13 columns. This means that there are 30,478\n",
        "# observations.\n",
        "\n",
        "print(airbnb.columns)\n",
        "# The variables included are 'Host Id', 'Host Since', 'Name', 'Neighbourhood ',\n",
        "#'Property Type','Review Scores Rating (bin)', 'Room Type', 'Zipcode', 'Beds',\n",
        "# 'Number of Records', 'Number Of Reviews', 'Price','Review Scores Rating.'\n"
      ]
    },
    {
      "cell_type": "code",
      "source": [
        "# Question 2.3\n",
        "# Cross tabulate Room Type and Property Type. What patterns do you see in what\n",
        "# kinds of rentals are available? For which kinds of properties are private\n",
        "# rooms more common than renting the entire property?\n",
        "\n",
        "ct = pd.crosstab(airbnb[\"Property Type\"], airbnb[\"Room Type\"])\n",
        "print(ct)\n",
        "# The data shows that more conventional living situations (apartments, houses,\n",
        "# lofts, townhouses, condos, etc.) have the greatest availability. It also that\n",
        "# these more popular types of living situations have the greatest availability\n",
        "# by the room types which allow for the most privacy/autonomy. For instance, the\n",
        "# property type \"Apartment\" has the greatest number of available units when they\n",
        "# have the room type of \"Entire home/apt\". For most other popular property types\n",
        "# that I've mentioned, the \"Entire home/apt\" room type has the greatest availability\n",
        "# as well. As we might expect based on this observation, the next most available\n",
        "# \"room type\" for the apartment property type is a \"private room\". However, this\n",
        "# is not universally the case. For instance, in a property type where renting an\n",
        "# entire unit is not expected (like \"House\" or \"Bed & Breakfast\"), we do not see\n",
        "# them having the greatest availability in the room type \"Entire home/apt\" as we\n",
        "# did with the other common property types. In fact, \"House\", \"Bed & Breakfast,\n",
        "# \"Dorm\", and \"Hut\" all have more listings of \"Private rooms\" than \"Entire home/apt\".\n",
        "# This could have been reasonably expected as these property types are typically\n",
        "# occupied simoultaneously by many different renters."
      ],
      "metadata": {
        "colab": {
          "base_uri": "https://localhost:8080/"
        },
        "id": "0upHPh2AES1e",
        "outputId": "189c38f7-35ac-46d7-80e3-f50750ba4c29"
      },
      "execution_count": 5,
      "outputs": [
        {
          "output_type": "stream",
          "name": "stdout",
          "text": [
            "Room Type        Entire home/apt  Private room  Shared room\n",
            "Property Type                                              \n",
            "Apartment                  15669         10748          685\n",
            "Bed & Breakfast               13           155           12\n",
            "Boat                           7             1            0\n",
            "Bungalow                       4             0            0\n",
            "Cabin                          1             1            0\n",
            "Camper/RV                      6             1            0\n",
            "Castle                         0             1            0\n",
            "Chalet                         0             1            0\n",
            "Condominium                   72            22            0\n",
            "Dorm                           4            16           11\n",
            "House                        752          1258           80\n",
            "Hut                            0             2            0\n",
            "Lighthouse                     1             0            0\n",
            "Loft                         392           312           49\n",
            "Other                         14            29            4\n",
            "Tent                           0             4            0\n",
            "Townhouse                     83            52            1\n",
            "Treehouse                      0             1            3\n",
            "Villa                          4             4            0\n"
          ]
        }
      ]
    },
    {
      "cell_type": "code",
      "source": [
        "# Question 2.4"
      ],
      "metadata": {
        "id": "XNoCtGeuIzeh"
      },
      "execution_count": null,
      "outputs": []
    },
    {
      "cell_type": "markdown",
      "metadata": {
        "id": "wrc4Zm-wGiXl"
      },
      "source": [
        "**Q3.** This question looks at a time series of the number of active oil drilling rigs in the United States over time. The data comes from the Energy Information Agency.\n",
        "\n",
        "1. Load `./data/drilling_rigs.csv` and examine the data. How many observations? How many variables? Are numeric variables correctly read in by Pandas, or will some variables have to be typecast/coerced? Explain clearly how these data need to be cleaned.\n",
        "2. To convert the `Month` variable to an ordered datetime variable, use `df['time'] = pd.to_datetime(df['Month'], format='mixed')`.\n",
        "3. Let's look at `Active Well Service Rig Count (Number of Rigs)`, which is the total number of rigs over time. Make a line plot of this time series. Describe what you see.\n",
        "4. Instead of levels, we want to look at change over time. Compute the first difference of  `Active Well Service Rig Count (Number of Rigs)` and plot it over time. Describe what you see.\n",
        "5. The first two columns are the number of onshore and offshore rigs, respectively. Melt these columns and plot the resulting series."
      ]
    },
    {
      "cell_type": "code",
      "execution_count": null,
      "metadata": {
        "vscode": {
          "languageId": "plaintext"
        },
        "id": "vW42jge5GiXl"
      },
      "outputs": [],
      "source": []
    }
  ],
  "metadata": {
    "kernelspec": {
      "display_name": "Python 3 (ipykernel)",
      "language": "python",
      "name": "python3"
    },
    "language_info": {
      "codemirror_mode": {
        "name": "ipython",
        "version": 3
      },
      "file_extension": ".py",
      "mimetype": "text/x-python",
      "name": "python",
      "nbconvert_exporter": "python",
      "pygments_lexer": "ipython3",
      "version": "3.10.18"
    },
    "colab": {
      "provenance": []
    }
  },
  "nbformat": 4,
  "nbformat_minor": 0
}